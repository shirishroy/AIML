{
 "cells": [
  {
   "cell_type": "markdown",
   "id": "44816c55",
   "metadata": {},
   "source": [
    "Problem: Predict the selling price of a house."
   ]
  },
  {
   "cell_type": "code",
   "execution_count": 1,
   "id": "9cd7d9f7",
   "metadata": {},
   "outputs": [
    {
     "name": "stdout",
     "output_type": "stream",
     "text": [
      "Dataset shape: (500, 6)\n",
      "       Square_Footage  Number_of_Bedrooms  Number_of_Bathrooms  \\\n",
      "count      450.000000          450.000000           450.000000   \n",
      "mean      2805.922222            2.933333             2.015556   \n",
      "std       1342.756572            1.434541             0.824042   \n",
      "min        510.000000            1.000000             1.000000   \n",
      "25%       1651.250000            2.000000             1.000000   \n",
      "50%       2797.500000            3.000000             2.000000   \n",
      "75%       3995.000000            4.000000             3.000000   \n",
      "max       4990.000000            5.000000             3.000000   \n",
      "\n",
      "       Distance_to_City_Center  Age_of_the_House  Selling_Price  \n",
      "count               450.000000        450.000000     500.000000  \n",
      "mean                 25.289333         49.857778  501969.504000  \n",
      "std                  13.794616         29.517233  274081.381742  \n",
      "min                   0.500000          0.000000   51049.000000  \n",
      "25%                  13.900000         23.000000  257937.750000  \n",
      "50%                  25.300000         50.000000  502861.500000  \n",
      "75%                  36.275000         76.750000  724584.500000  \n",
      "max                  49.800000         99.000000  997783.000000  \n",
      "Square_Footage             50\n",
      "Number_of_Bedrooms         50\n",
      "Number_of_Bathrooms        50\n",
      "Distance_to_City_Center    50\n",
      "Age_of_the_House           50\n",
      "Selling_Price               0\n",
      "dtype: int64\n",
      "Mean Squared Error: 77249880831.59492\n",
      "Consider tuning hyperparameters or using more features.\n"
     ]
    }
   ],
   "source": [
    "# 1. Importing the Libraries\n",
    "import pandas as pd\n",
    "import numpy as np\n",
    "from sklearn.model_selection import train_test_split\n",
    "from sklearn.preprocessing import StandardScaler\n",
    "from sklearn.impute import SimpleImputer\n",
    "from sklearn.neighbors import KNeighborsRegressor\n",
    "from sklearn.metrics import mean_squared_error\n",
    "\n",
    "# 2. Loading the Dataset\n",
    "dataset = pd.read_csv(\"knn_regression_dataset.csv\")\n",
    "\n",
    "# 3. Display the Number of Columns and Rows\n",
    "print(f\"Dataset shape: {dataset.shape}\")\n",
    "\n",
    "# 4. Statistical Data for Each Column\n",
    "print(dataset.describe(include=\"all\"))\n",
    "\n",
    "# 5. Display Null Values in Each Column\n",
    "print(dataset.isnull().sum())\n",
    "\n",
    "# 6. Replace Null Values\n",
    "imputer = SimpleImputer(strategy=\"mean\")\n",
    "dataset = pd.DataFrame(imputer.fit_transform(dataset), columns=dataset.columns)\n",
    "\n",
    "# 7. No Encoding Needed for Continuous Variables\n",
    "\n",
    "# 8. Scaling\n",
    "scaler = StandardScaler()\n",
    "scaled_columns = [\"Square_Footage\", \"Number_of_Bedrooms\", \"Number_of_Bathrooms\", \"Distance_to_City_Center\", \"Age_of_the_House\"]\n",
    "dataset[scaled_columns] = scaler.fit_transform(dataset[scaled_columns])\n",
    "\n",
    "# 9. Importing the Model\n",
    "model = KNeighborsRegressor(n_neighbors=5)\n",
    "\n",
    "# 10. Train-Test Split\n",
    "X = dataset.drop(\"Selling_Price\", axis=1)\n",
    "y = dataset[\"Selling_Price\"]\n",
    "X_train, X_test, y_train, y_test = train_test_split(X, y, test_size=0.3, random_state=42)\n",
    "\n",
    "# 11. Training the Model and Prediction\n",
    "model.fit(X_train, y_train)\n",
    "y_pred = model.predict(X_test)\n",
    "\n",
    "# 12. Performance Evaluation\n",
    "print(\"Mean Squared Error:\", mean_squared_error(y_test, y_pred))\n",
    "\n",
    "# 13. Analysis of Results\n",
    "if mean_squared_error(y_test, y_pred) < 50000:\n",
    "    print(\"The model's predictions are accurate.\")\n",
    "else:\n",
    "    print(\"Consider tuning hyperparameters or using more features.\")\n"
   ]
  }
 ],
 "metadata": {
  "kernelspec": {
   "display_name": "Python 3 (ipykernel)",
   "language": "python",
   "name": "python3"
  },
  "language_info": {
   "codemirror_mode": {
    "name": "ipython",
    "version": 3
   },
   "file_extension": ".py",
   "mimetype": "text/x-python",
   "name": "python",
   "nbconvert_exporter": "python",
   "pygments_lexer": "ipython3",
   "version": "3.11.7"
  }
 },
 "nbformat": 4,
 "nbformat_minor": 5
}
