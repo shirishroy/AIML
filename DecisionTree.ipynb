{
 "cells": [
  {
   "cell_type": "markdown",
   "id": "74fb5ac1",
   "metadata": {},
   "source": [
    "Decision Trees for Classification\n",
    "Problem Statement:\n",
    "An e-commerce platform wants to categorize products into predefined categories based on features like price, reviews, and brand popularity.\n",
    "\n",
    "X Variables (Features):\n",
    "\n",
    "Price\n",
    "Number of Reviews\n",
    "Average Review Score\n",
    "Brand Popularity (numerical scale)\n",
    "Product Age (in months)\n",
    "Y Variable (Target):\n",
    "\n",
    "Category: Multi-class (e.g., \"Electronics\", \"Clothing\", \"Home Decor\", \"Books\")"
   ]
  },
  {
   "cell_type": "code",
   "execution_count": 1,
   "id": "8c59018a",
   "metadata": {},
   "outputs": [
    {
     "ename": "ModuleNotFoundError",
     "evalue": "No module named 'pandas'",
     "output_type": "error",
     "traceback": [
      "\u001b[0;31m---------------------------------------------------------------------------\u001b[0m",
      "\u001b[0;31mModuleNotFoundError\u001b[0m                       Traceback (most recent call last)",
      "\u001b[1;32m/Users/shirishkumar/Documents/study/5th sem/aiml/AIML_Lab_Internal/DecisionTree.ipynb Cell 2\u001b[0m line \u001b[0;36m2\n\u001b[1;32m      <a href='vscode-notebook-cell:/Users/shirishkumar/Documents/study/5th%20sem/aiml/AIML_Lab_Internal/DecisionTree.ipynb#W1sZmlsZQ%3D%3D?line=0'>1</a>\u001b[0m \u001b[39m# 1. Importing the Libraries\u001b[39;00m\n\u001b[0;32m----> <a href='vscode-notebook-cell:/Users/shirishkumar/Documents/study/5th%20sem/aiml/AIML_Lab_Internal/DecisionTree.ipynb#W1sZmlsZQ%3D%3D?line=1'>2</a>\u001b[0m \u001b[39mimport\u001b[39;00m \u001b[39mpandas\u001b[39;00m \u001b[39mas\u001b[39;00m \u001b[39mpd\u001b[39;00m\n\u001b[1;32m      <a href='vscode-notebook-cell:/Users/shirishkumar/Documents/study/5th%20sem/aiml/AIML_Lab_Internal/DecisionTree.ipynb#W1sZmlsZQ%3D%3D?line=2'>3</a>\u001b[0m \u001b[39mimport\u001b[39;00m \u001b[39mnumpy\u001b[39;00m \u001b[39mas\u001b[39;00m \u001b[39mnp\u001b[39;00m\n\u001b[1;32m      <a href='vscode-notebook-cell:/Users/shirishkumar/Documents/study/5th%20sem/aiml/AIML_Lab_Internal/DecisionTree.ipynb#W1sZmlsZQ%3D%3D?line=3'>4</a>\u001b[0m \u001b[39mfrom\u001b[39;00m \u001b[39msklearn\u001b[39;00m\u001b[39m.\u001b[39;00m\u001b[39mmodel_selection\u001b[39;00m \u001b[39mimport\u001b[39;00m train_test_split\n",
      "\u001b[0;31mModuleNotFoundError\u001b[0m: No module named 'pandas'"
     ]
    }
   ],
   "source": [
    "# 1. Importing the Libraries\n",
    "import pandas as pd\n",
    "import numpy as np\n",
    "from sklearn.model_selection import train_test_split\n",
    "from sklearn.preprocessing import LabelEncoder, OneHotEncoder\n",
    "from sklearn.impute import SimpleImputer\n",
    "from sklearn.tree import DecisionTreeClassifier\n",
    "from sklearn.metrics import classification_report\n",
    "\n",
    "# 2. Loading the Dataset\n",
    "dataset = pd.read_csv(\"decision_tree_classification_dataset.csv\")\n",
    "\n",
    "# 3. Display the Number of Columns and Rows\n",
    "print(f\"Dataset shape: {dataset.shape}\")\n",
    "\n",
    "# 4. Statistical Data for Each Column\n",
    "print(dataset.describe(include=\"all\"))\n",
    "\n",
    "# 5. Display Null Values in Each Column\n",
    "print(dataset.isnull().sum())\n",
    "\n",
    "# 6. Replace Null Values\n",
    "imputer = SimpleImputer(strategy=\"mean\")\n",
    "numerical_columns = [\"Price\", \"Number_of_Reviews\", \"Average_Review_Score\", \"Product_Age\"]\n",
    "dataset[numerical_columns] = imputer.fit_transform(dataset[numerical_columns])\n",
    "\n",
    "# Replace null values in Brand_Popularity with the most frequent value\n",
    "imputer = SimpleImputer(strategy=\"most_frequent\")\n",
    "dataset[\"Brand_Popularity\"] = imputer.fit_transform(dataset[[\"Brand_Popularity\"]]).ravel()\n",
    "\n",
    "\n",
    "# 7. Encoding\n",
    "label_encoder = LabelEncoder()\n",
    "dataset[\"Category\"] = label_encoder.fit_transform(dataset[\"Category\"])\n",
    "dataset = pd.get_dummies(dataset, columns=[\"Brand_Popularity\"], drop_first=True)\n",
    "\n",
    "# 8. No Scaling Needed for Decision Trees\n",
    "\n",
    "# 9. Importing the Model\n",
    "model = DecisionTreeClassifier()\n",
    "\n",
    "# 10. Train-Test Split\n",
    "X = dataset.drop(\"Category\", axis=1)\n",
    "y = dataset[\"Category\"]\n",
    "X_train, X_test, y_train, y_test = train_test_split(X, y, test_size=0.3, random_state=42)\n",
    "\n",
    "# 11. Training the Model and Prediction\n",
    "model.fit(X_train, y_train)\n",
    "y_pred = model.predict(X_test)\n",
    "\n",
    "# 12. Performance Evaluation\n",
    "print(\"Classification Report:\\n\", classification_report(y_test, y_pred))\n",
    "\n",
    "# 13. Analysis of Results\n",
    "if model.score(X_test, y_test) > 0.8:\n",
    "    print(\"The decision tree performed well.\")\n",
    "else:\n",
    "    print(\"Consider pruning the tree or collecting more data.\")\n"
   ]
  },
  {
   "cell_type": "code",
   "execution_count": null,
   "id": "26dc5d12",
   "metadata": {},
   "outputs": [],
   "source": []
  }
 ],
 "metadata": {
  "kernelspec": {
   "display_name": "Python 3 (ipykernel)",
   "language": "python",
   "name": "python3"
  },
  "language_info": {
   "codemirror_mode": {
    "name": "ipython",
    "version": 3
   },
   "file_extension": ".py",
   "mimetype": "text/x-python",
   "name": "python",
   "nbconvert_exporter": "python",
   "pygments_lexer": "ipython3",
   "version": "3.9.6"
  }
 },
 "nbformat": 4,
 "nbformat_minor": 5
}
