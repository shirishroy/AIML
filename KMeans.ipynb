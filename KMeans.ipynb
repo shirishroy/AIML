{
 "cells": [
  {
   "cell_type": "code",
   "execution_count": null,
   "id": "7f1d4e90",
   "metadata": {},
   "outputs": [],
   "source": [
    "Problem: Segment customers based on purchasing behavior.\n",
    "python\n",
    "Copy code\n"
   ]
  },
  {
   "cell_type": "code",
   "execution_count": 1,
   "id": "533a25b4",
   "metadata": {},
   "outputs": [
    {
     "name": "stdout",
     "output_type": "stream",
     "text": [
      "Dataset shape: (500, 5)\n",
      "       Annual_Income  Monthly_Spend  Number_of_Transactions  \\\n",
      "count     450.000000     450.000000              450.000000   \n",
      "mean    69390.006667    2689.928889               48.148889   \n",
      "std     29092.821442    1297.880213               29.321314   \n",
      "min     20020.000000     516.000000                1.000000   \n",
      "25%     44117.000000    1604.500000               21.000000   \n",
      "50%     69409.000000    2678.500000               48.000000   \n",
      "75%     94865.000000    3711.750000               73.000000   \n",
      "max    119254.000000    4988.000000               99.000000   \n",
      "\n",
      "       Average_Transaction_Value  Customer_Tenure  \n",
      "count                 450.000000       450.000000  \n",
      "mean                  247.315556        10.086667  \n",
      "std                   145.174599         5.598604  \n",
      "min                    10.000000         1.000000  \n",
      "25%                   118.250000         5.000000  \n",
      "50%                   249.000000        10.000000  \n",
      "75%                   368.250000        15.000000  \n",
      "max                   499.000000        19.000000  \n",
      "Annual_Income                50\n",
      "Monthly_Spend                50\n",
      "Number_of_Transactions       50\n",
      "Average_Transaction_Value    50\n",
      "Customer_Tenure              50\n",
      "dtype: int64\n"
     ]
    },
    {
     "name": "stderr",
     "output_type": "stream",
     "text": [
      "C:\\Users\\PI\\anaconda3\\Lib\\site-packages\\sklearn\\cluster\\_kmeans.py:870: FutureWarning: The default value of `n_init` will change from 10 to 'auto' in 1.4. Set the value of `n_init` explicitly to suppress the warning\n",
      "  warnings.warn(\n",
      "C:\\Users\\PI\\anaconda3\\Lib\\site-packages\\sklearn\\cluster\\_kmeans.py:1382: UserWarning: KMeans is known to have a memory leak on Windows with MKL, when there are less chunks than available threads. You can avoid it by setting the environment variable OMP_NUM_THREADS=2.\n",
      "  warnings.warn(\n"
     ]
    },
    {
     "name": "stdout",
     "output_type": "stream",
     "text": [
      "Silhouette Score: 0.1489246704261154\n",
      "Consider changing the number of clusters or scaling methods.\n"
     ]
    }
   ],
   "source": [
    "# 1. Importing the Libraries\n",
    "import pandas as pd\n",
    "import numpy as np\n",
    "from sklearn.preprocessing import StandardScaler\n",
    "from sklearn.impute import SimpleImputer\n",
    "from sklearn.cluster import KMeans\n",
    "from sklearn.metrics import silhouette_score\n",
    "\n",
    "# 2. Loading the Dataset\n",
    "dataset = pd.read_csv(\"kmeans_clustering_dataset.csv\")\n",
    "\n",
    "# 3. Display the Number of Columns and Rows\n",
    "print(f\"Dataset shape: {dataset.shape}\")\n",
    "\n",
    "# 4. Statistical Data for Each Column\n",
    "print(dataset.describe())\n",
    "\n",
    "# 5. Display Null Values in Each Column\n",
    "print(dataset.isnull().sum())\n",
    "\n",
    "# 6. Replace Null Values\n",
    "imputer = SimpleImputer(strategy=\"mean\")\n",
    "dataset = pd.DataFrame(imputer.fit_transform(dataset), columns=dataset.columns)\n",
    "\n",
    "# 7. No Encoding Needed for Numerical Features\n",
    "\n",
    "# 8. Scaling\n",
    "scaler = StandardScaler()\n",
    "dataset = pd.DataFrame(scaler.fit_transform(dataset), columns=dataset.columns)\n",
    "\n",
    "# 9. Importing the Model\n",
    "model = KMeans(n_clusters=3, random_state=42)\n",
    "\n",
    "# 10. No Train-Test Split for Clustering\n",
    "\n",
    "# 11. Fit the Model and Predict\n",
    "model.fit(dataset)\n",
    "cluster_labels = model.predict(dataset)\n",
    "\n",
    "# 12. Performance Evaluation\n",
    "print(\"Silhouette Score:\", silhouette_score(dataset, cluster_labels))\n",
    "\n",
    "# 13. Analysis of Results\n",
    "if silhouette_score(dataset, cluster_labels) > 0.5:\n",
    "    print(\"The clusters are well-defined.\")\n",
    "else:\n",
    "    print(\"Consider changing the number of clusters or scaling methods.\")\n"
   ]
  },
  {
   "cell_type": "code",
   "execution_count": null,
   "id": "5af48e1e",
   "metadata": {},
   "outputs": [],
   "source": []
  }
 ],
 "metadata": {
  "kernelspec": {
   "display_name": "Python 3 (ipykernel)",
   "language": "python",
   "name": "python3"
  },
  "language_info": {
   "codemirror_mode": {
    "name": "ipython",
    "version": 3
   },
   "file_extension": ".py",
   "mimetype": "text/x-python",
   "name": "python",
   "nbconvert_exporter": "python",
   "pygments_lexer": "ipython3",
   "version": "3.12.4"
  }
 },
 "nbformat": 4,
 "nbformat_minor": 5
}
